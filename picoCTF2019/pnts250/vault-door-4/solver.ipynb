{
 "cells": [
  {
   "cell_type": "raw",
   "metadata": {},
   "source": [
    "import java.util.*;\n",
    "\n",
    "class VaultDoor4 {\n",
    "    public static void main(String args[]) {\n",
    "        VaultDoor4 vaultDoor = new VaultDoor4();\n",
    "        Scanner scanner = new Scanner(System.in);\n",
    "        System.out.print(\"Enter vault password: \");\n",
    "        String userInput = scanner.next();\n",
    "\tString input = userInput.substring(\"picoCTF{\".length(),userInput.length()-1);\n",
    "\tif (vaultDoor.checkPassword(input)) {\n",
    "\t    System.out.println(\"Access granted.\");\n",
    "\t} else {\n",
    "\t    System.out.println(\"Access denied!\");\n",
    "        }\n",
    "    }\n",
    "\n",
    "    // I made myself dizzy converting all of these numbers into different bases,\n",
    "    // so I just *know* that this vault will be impenetrable. This will make Dr.\n",
    "    // Evil like me better than all of the other minions--especially Minion\n",
    "    // #5620--I just know it!\n",
    "    //\n",
    "    //  .:::.   .:::.\n",
    "    // :::::::.:::::::\n",
    "    // :::::::::::::::\n",
    "    // ':::::::::::::'\n",
    "    //   ':::::::::'\n",
    "    //     ':::::'\n",
    "    //       ':'\n",
    "    // -Minion #7781\n",
    "    public boolean checkPassword(String password) {\n",
    "        byte[] passBytes = password.getBytes();\n",
    "        byte[] myBytes = {\n",
    "            106 , 85  , 53  , 116 , 95  , 52  , 95  , 98  ,\n",
    "            0x55, 0x6e, 0x43, 0x68, 0x5f, 0x30, 0x66, 0x5f,\n",
    "            0142, 0131, 0164, 063 , 0163, 0137, 062 , 066 ,\n",
    "            '7' , 'e' , '0' , '3' , 'd' , '1' , '1' , '6' ,\n",
    "        };\n",
    "        for (int i=0; i<32; i++) {\n",
    "            if (passBytes[i] != myBytes[i]) {\n",
    "                return false;\n",
    "            }\n",
    "        }\n",
    "        return true;\n",
    "    }\n",
    "}\n"
   ]
  },
  {
   "cell_type": "code",
   "execution_count": 2,
   "metadata": {},
   "outputs": [],
   "source": [
    "val1 = [106 , 85  , 53  , 116 , 95  , 52  , 95  , 98]\n",
    "\n",
    "val2 = [0x55, 0x6e, 0x43, 0x68, 0x5f, 0x30, 0x66, 0x5f]\n",
    "\n",
    "val3 = [0o142, 0o131, 0o164, 0o63 , 0o163, 0o137, 0o62 , 0o66]\n",
    "\n",
    "val4 = ['7' , 'e' , '0' , '3' , 'd' , '1' , '1' , '6']\n"
   ]
  },
  {
   "cell_type": "code",
   "execution_count": 3,
   "metadata": {},
   "outputs": [
    {
     "data": {
      "text/plain": [
       "[106, 85, 53, 116, 95, 52, 95, 98]"
      ]
     },
     "execution_count": 3,
     "metadata": {},
     "output_type": "execute_result"
    }
   ],
   "source": [
    "val1\n"
   ]
  },
  {
   "cell_type": "code",
   "execution_count": 10,
   "metadata": {},
   "outputs": [],
   "source": [
    "l_n_str1 = [chr(n) for n in val1]\n",
    "l_n_str2 = [chr(n) for n in val2]\n",
    "l_n_str3 = [chr(n) for n in val3]"
   ]
  },
  {
   "cell_type": "code",
   "execution_count": 17,
   "metadata": {},
   "outputs": [
    {
     "data": {
      "text/plain": [
       "'picoCTF{jU5t_4_bUnCh_0f_bYt3s_267e03d116}'"
      ]
     },
     "execution_count": 17,
     "metadata": {},
     "output_type": "execute_result"
    }
   ],
   "source": [
    "'picoCTF{' + ''.join(l_n_str1 + l_n_str2 + l_n_str3 + val4) + '}'"
   ]
  },
  {
   "cell_type": "code",
   "execution_count": null,
   "metadata": {},
   "outputs": [],
   "source": []
  }
 ],
 "metadata": {
  "kernelspec": {
   "display_name": "Python 3",
   "language": "python",
   "name": "python3"
  },
  "language_info": {
   "codemirror_mode": {
    "name": "ipython",
    "version": 3
   },
   "file_extension": ".py",
   "mimetype": "text/x-python",
   "name": "python",
   "nbconvert_exporter": "python",
   "pygments_lexer": "ipython3",
   "version": "3.6.10"
  }
 },
 "nbformat": 4,
 "nbformat_minor": 4
}
