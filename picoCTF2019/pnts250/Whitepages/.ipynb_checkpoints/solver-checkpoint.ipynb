{
 "cells": [
  {
   "cell_type": "code",
   "execution_count": 51,
   "metadata": {},
   "outputs": [],
   "source": [
    "file = open('whitepages.txt', 'rb')\n",
    "\n"
   ]
  },
  {
   "cell_type": "code",
   "execution_count": 52,
   "metadata": {},
   "outputs": [
    {
     "name": "stdout",
     "output_type": "stream",
     "text": [
      "00001010000010010000100101110000011010010110001101101111010000110101010001000110000010100000101000001001000010010101001101000101010001010010000001010000010101010100001001001100010010010100001100100000010100100100010101000011010011110101001001000100010100110010000000100110001000000100001001000001010000110100101101000111010100100100111101010101010011100100010000100000010100100100010101010000010011110101001001010100000010100000100100001001001101010011000000110000001100000010000001000110011011110111001001100010011001010111001100100000010000010111011001100101001011000010000001010000011010010111010001110100011100110110001001110101011100100110011101101000001011000010000001010000010000010010000000110001001101010011001000110001001100110000101000001001000010010111000001101001011000110110111101000011010101000100011001111011011011100110111101110100010111110110000101101100011011000101111101110011011100000110000101100011011001010111001101011111011000010111001001100101010111110110001101110010011001010110000101110100011001010110010001011111011001010111000101110101011000010110110001011111011000110011000100110110001101110011000000110100001100000110001100110111001100110011100001100101001110000110001001100011011000010110010100110010001100010011000000111001011001010110011000110100011000100110010100110101001110010011011000110000011000100011000101111101000010100000100100001001\n"
     ]
    }
   ],
   "source": [
    "bit_str = ''\n",
    "bit_str_n = ''\n",
    "\n",
    "def read_pattern():\n",
    "    global bit_str, bit_str_n\n",
    "    val = int.from_bytes(file.read(1), 'little')\n",
    "    if (val == 0x20):\n",
    "        bit_str = bit_str + '1'\n",
    "        bit_str_n = bit_str_n + '0'\n",
    "        return 0\n",
    "    elif (val == 0xe2):\n",
    "        bit_str = bit_str + '0'\n",
    "        bit_str_n = bit_str_n + '1'\n",
    "        file.read(2)\n",
    "        return 0\n",
    "    else:\n",
    "        return -1\n",
    "\n",
    "while(1):\n",
    "    ret = read_pattern()\n",
    "    if 0 != ret:\n",
    "        break\n",
    "\n",
    "print(bit_str)"
   ]
  },
  {
   "cell_type": "code",
   "execution_count": 53,
   "metadata": {},
   "outputs": [],
   "source": [
    "bin_num = int(bit_str, 2)\n",
    "bit_num_n = int(bit_str_n, 2)"
   ]
  },
  {
   "cell_type": "code",
   "execution_count": 41,
   "metadata": {},
   "outputs": [
    {
     "data": {
      "text/plain": [
       "64649391338623346466743245564315800589417447612040533428523588407332298859842949880773829000456867930513038868904917813075891741144256067685700844648658099509211257879714686817059277249168168408949832987284494933424728699982054373550734662382169243960770230568482606615965554751394565544145881802629175032960282671114616927590917227515831220466556103810431382890974507738164542962741957719060931093217565792143625"
      ]
     },
     "execution_count": 41,
     "metadata": {},
     "output_type": "execute_result"
    }
   ],
   "source": [
    "bin_num"
   ]
  },
  {
   "cell_type": "code",
   "execution_count": 54,
   "metadata": {},
   "outputs": [
    {
     "data": {
      "text/plain": [
       "1584553295374006457339319821566421750255263552900058370402788670351487700659816265180471023834981461362582879557966339841822605445336421489614427506887894623774620448240683962397695957562021673614888827326351663493231543724737592700985423455214257213011226404204455516069944870845680427403410431640923557766296988854790957245727673336928497008536516790379392467645072710005795369537080166564348039859485706429003510"
      ]
     },
     "execution_count": 54,
     "metadata": {},
     "output_type": "execute_result"
    }
   ],
   "source": [
    "bit_num_n"
   ]
  },
  {
   "cell_type": "code",
   "execution_count": 58,
   "metadata": {},
   "outputs": [],
   "source": [
    "hex_str = format(bin_num, '#010x')"
   ]
  },
  {
   "cell_type": "code",
   "execution_count": 59,
   "metadata": {},
   "outputs": [
    {
     "data": {
      "text/plain": [
       "'0xa09097069636f4354460a0a0909534545205055424c4943205245434f5244532026204241434b47524f554e44205245504f52540a09093530303020466f72626573204176652c20506974747362757267682c2050412031353231330a09097069636f4354467b6e6f745f616c6c5f7370616365735f6172655f637265617465645f657175616c5f63313637303430633733386538626361653231303965663462653539363062317d0a0909'"
      ]
     },
     "execution_count": 59,
     "metadata": {},
     "output_type": "execute_result"
    }
   ],
   "source": [
    "hex_str"
   ]
  },
  {
   "cell_type": "code",
   "execution_count": 60,
   "metadata": {},
   "outputs": [],
   "source": [
    "hex_str_n = format(bit_num_n, '#010x')"
   ]
  },
  {
   "cell_type": "code",
   "execution_count": 62,
   "metadata": {},
   "outputs": [
    {
     "data": {
      "text/plain": [
       "'0xf5f6f68f969c90bcabb9f5f5f6f6acbabadfafaabdb3b6bcdfadbabcb0adbbacdfd9dfbdbebcb4b8adb0aab1bbdfadbaafb0adabf5f6f6cacfcfcfdfb9908d9d9a8cdfbe899ad3dfaf968b8b8c9d8a8d9897d3dfafbedfcecacdceccf5f6f68f969c90bcabb98491908ba09e9393a08c8f9e9c9a8ca09e8d9aa09c8d9a9e8b9a9ba09a8e8a9e93a09ccec9c8cfcbcf9cc8ccc79ac79d9c9e9acdcecfc69a99cb9d9acac6c9cf9dce82f5f6f6'"
      ]
     },
     "execution_count": 62,
     "metadata": {},
     "output_type": "execute_result"
    }
   ],
   "source": [
    "hex_str_n\n"
   ]
  },
  {
   "cell_type": "code",
   "execution_count": 64,
   "metadata": {},
   "outputs": [
    {
     "name": "stdout",
     "output_type": "stream",
     "text": [
      "\n",
      "\t\tpicoCTF\n",
      "\n",
      "\t\tSEE PUBLIC RECORDS & BACKGROUND REPORT\n",
      "\t\t5000 Forbes Ave, Pittsburgh, PA 15213\n",
      "\t\tpicoCTF{not_all_spaces_are_created_equal_c167040c738e8bcae2109ef4be5960b1}\n",
      "\t\t\n"
     ]
    }
   ],
   "source": [
    "a = \"\"\n",
    "for i in range(0, len(bit_str), 8):\n",
    "  a += chr(int(bit_str[i:i+8], 2))\n",
    "print(a)"
   ]
  },
  {
   "cell_type": "code",
   "execution_count": null,
   "metadata": {},
   "outputs": [],
   "source": []
  }
 ],
 "metadata": {
  "kernelspec": {
   "display_name": "Python 3",
   "language": "python",
   "name": "python3"
  },
  "language_info": {
   "codemirror_mode": {
    "name": "ipython",
    "version": 3
   },
   "file_extension": ".py",
   "mimetype": "text/x-python",
   "name": "python",
   "nbconvert_exporter": "python",
   "pygments_lexer": "ipython3",
   "version": "3.6.10"
  }
 },
 "nbformat": 4,
 "nbformat_minor": 4
}
