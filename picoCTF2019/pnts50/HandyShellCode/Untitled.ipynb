{
 "cells": [
  {
   "cell_type": "code",
   "execution_count": 1,
   "metadata": {},
   "outputs": [
    {
     "ename": "SyntaxError",
     "evalue": "invalid syntax (<ipython-input-1-b3aefccfef5b>, line 28)",
     "output_type": "error",
     "traceback": [
      "\u001b[0;36m  File \u001b[0;32m\"<ipython-input-1-b3aefccfef5b>\"\u001b[0;36m, line \u001b[0;32m28\u001b[0m\n\u001b[0;31m    print bytearray(encoded)\u001b[0m\n\u001b[0m                  ^\u001b[0m\n\u001b[0;31mSyntaxError\u001b[0m\u001b[0;31m:\u001b[0m invalid syntax\n"
     ]
    }
   ],
   "source": [
    "# alnum_encoder.py\n",
    "import sys\n",
    "\n",
    "code = 'ls -la'\n",
    "\n",
    "first_byte = int(code, 16)\n",
    "\n",
    "chars = range(0x30,0x3a) + range(0x41, 0x5b) + range(0x61, 0x7b)\n",
    "pairs = [(y, z) for y in chars for z in chars]\n",
    "\n",
    "data = chr(first_byte)\n",
    "data += '\\x00'\n",
    "\n",
    "encoded = [0x30]\n",
    "print >>sys.stderr, \"[+]     %02x\" % encoded[0]\n",
    "\n",
    "for i, c in enumerate(data):\n",
    "    original_byte = ord(c)\n",
    "    x = encoded[i]\n",
    "    for y, z in pairs:\n",
    "        if (x^(y*0x30)^z) & 0xFF == original_byte:\n",
    "            print >>sys.stderr, \"[+] %02x: %02x %02x\" % (original_byte, y, z)\n",
    "            encoded += [y, z]\n",
    "            break\n",
    "    else:\n",
    "        raise Exception(\"something wrong: %02x\" % original_byte)\n",
    "\n",
    "print bytearray(encoded)"
   ]
  },
  {
   "cell_type": "code",
   "execution_count": null,
   "metadata": {},
   "outputs": [],
   "source": []
  }
 ],
 "metadata": {
  "kernelspec": {
   "display_name": "Python 3",
   "language": "python",
   "name": "python3"
  },
  "language_info": {
   "codemirror_mode": {
    "name": "ipython",
    "version": 3
   },
   "file_extension": ".py",
   "mimetype": "text/x-python",
   "name": "python",
   "nbconvert_exporter": "python",
   "pygments_lexer": "ipython3",
   "version": "3.6.10"
  }
 },
 "nbformat": 4,
 "nbformat_minor": 4
}
