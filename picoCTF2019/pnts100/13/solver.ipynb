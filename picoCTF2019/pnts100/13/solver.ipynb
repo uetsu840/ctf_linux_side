{
 "cells": [
  {
   "cell_type": "code",
   "execution_count": 7,
   "metadata": {},
   "outputs": [
    {
     "name": "stdout",
     "output_type": "stream",
     "text": [
      "picownz{not_too_bad_of_a_problem}"
     ]
    }
   ],
   "source": [
    "encrypted_string = 'cvpbPGS{abg_gbb_onq_bs_n_ceboyrz}'\n",
    "\n",
    "\n",
    "def rot13(ec):\n",
    "    if ec.isalpha():\n",
    "        # alphabet\n",
    "        num = ord(ec) - ord(\"a\")\n",
    "        num = (num + 13) % 26 + ord(\"a\")\n",
    "        c = chr(num)\n",
    "    else:\n",
    "        # not alphabet\n",
    "        c = ec\n",
    "        \n",
    "    return c\n",
    "\n",
    "        \n",
    "for c in encrypted_string:\n",
    "    print(rot13(c), end=\"\")\n",
    "\n"
   ]
  },
  {
   "cell_type": "code",
   "execution_count": null,
   "metadata": {},
   "outputs": [],
   "source": []
  }
 ],
 "metadata": {
  "kernelspec": {
   "display_name": "Python 3",
   "language": "python",
   "name": "python3"
  },
  "language_info": {
   "codemirror_mode": {
    "name": "ipython",
    "version": 3
   },
   "file_extension": ".py",
   "mimetype": "text/x-python",
   "name": "python",
   "nbconvert_exporter": "python",
   "pygments_lexer": "ipython3",
   "version": "3.6.10"
  }
 },
 "nbformat": 4,
 "nbformat_minor": 4
}
