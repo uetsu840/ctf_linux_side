{
 "cells": [
  {
   "cell_type": "code",
   "execution_count": 3,
   "metadata": {},
   "outputs": [
    {
     "name": "stdout",
     "output_type": "stream",
     "text": [
      "dspttjohuifsvcjdpobqjtwtvk\n",
      "None\n",
      "crossingtherubiconapisvsuj\n",
      "None\n",
      "bqnrrhmfsgdqtahbnmzohrurti\n",
      "None\n",
      "apmqqglerfcpszgamlyngqtqsh\n",
      "None\n",
      "zolppfkdqeboryfzlkxmfpsprg\n",
      "None\n",
      "ynkooejcpdanqxeykjwleoroqf\n",
      "None\n",
      "xmjnndiboczmpwdxjivkdnqnpe\n",
      "None\n",
      "wlimmchanbylovcwihujcmpmod\n",
      "None\n",
      "vkhllbgzmaxknubvhgtiblolnc\n",
      "None\n",
      "ujgkkafylzwjmtaugfshaknkmb\n",
      "None\n",
      "tifjjzexkyvilsztfergzjmjla\n",
      "None\n",
      "sheiiydwjxuhkrysedqfyilikz\n",
      "None\n",
      "rgdhhxcviwtgjqxrdcpexhkhjy\n",
      "None\n",
      "qfcggwbuhvsfipwqcbodwgjgix\n",
      "None\n",
      "pebffvatgurehovpbancvfifhw\n",
      "None\n",
      "odaeeuzsftqdgnuoazmbuehegv\n",
      "None\n",
      "nczddtyrespcfmtnzylatdgdfu\n",
      "None\n",
      "mbyccsxqdrobelsmyxkzscfcet\n",
      "None\n",
      "laxbbrwpcqnadkrlxwjyrbebds\n",
      "None\n",
      "kzwaaqvobpmzcjqkwvixqadacr\n",
      "None\n",
      "jyvzzpunaolybipjvuhwpzczbq\n",
      "None\n",
      "ixuyyotmznkxahoiutgvoybyap\n",
      "None\n",
      "hwtxxnslymjwzgnhtsfunxaxzo\n",
      "None\n",
      "gvswwmrkxlivyfmgsretmwzwyn\n",
      "None\n",
      "furvvlqjwkhuxelfrqdslvyvxm\n",
      "None\n",
      "etquukpivjgtwdkeqpcrkuxuwl\n",
      "None\n"
     ]
    }
   ],
   "source": [
    "crypto_text = 'dspttjohuifsvcjdpobqjtwtvk'\n",
    "\n",
    "def decrypt_char(c, ofs):\n",
    "    ord_d = ((ord(c) - ord('a')) - ofs) % 26\n",
    "    c = chr(ord('a') + ord_d)\n",
    "    \n",
    "    return c\n",
    "\n",
    "def decrypt_string(str, ofs):\n",
    "    for c in str:\n",
    "        print(decrypt_char(c, ofs), end=\"\")\n",
    "    print(\"\")\n",
    "\n",
    "for i in range(26):\n",
    "    print(decrypt_string(crypto_text, i))\n"
   ]
  },
  {
   "cell_type": "code",
   "execution_count": null,
   "metadata": {},
   "outputs": [],
   "source": []
  }
 ],
 "metadata": {
  "kernelspec": {
   "display_name": "Python 3",
   "language": "python",
   "name": "python3"
  },
  "language_info": {
   "codemirror_mode": {
    "name": "ipython",
    "version": 3
   },
   "file_extension": ".py",
   "mimetype": "text/x-python",
   "name": "python",
   "nbconvert_exporter": "python",
   "pygments_lexer": "ipython3",
   "version": "3.6.10"
  }
 },
 "nbformat": 4,
 "nbformat_minor": 4
}
