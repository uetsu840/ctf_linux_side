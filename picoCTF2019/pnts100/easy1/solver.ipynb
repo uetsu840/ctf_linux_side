{
 "cells": [
  {
   "cell_type": "code",
   "execution_count": 22,
   "metadata": {},
   "outputs": [],
   "source": [
    "crypto_table_index = 'SOLVECRYPTO'\n",
    "\n",
    "def get_crypto_ofs(c, t):\n",
    "    ofs = ord(t) - ord('A')\n",
    "    \n",
    "    \n",
    "    ord_d = ((ord(c) - ord('A')) - ofs) % 26\n",
    "    c = chr(ord('A') + ord_d)\n",
    "    \n",
    "    return c\n",
    "    "
   ]
  },
  {
   "cell_type": "code",
   "execution_count": 24,
   "metadata": {},
   "outputs": [
    {
     "name": "stdout",
     "output_type": "stream",
     "text": [
      "CRYPTOISFUN"
     ]
    }
   ],
   "source": [
    "crypto = 'UFJKXQZQUNB'\n",
    "\n",
    "for i in range(len(crypto)):\n",
    "    print(get_crypto_ofs(crypto[i], crypto_table_index[i]), end=\"\")\n",
    "    \n",
    "    \n",
    "    "
   ]
  },
  {
   "cell_type": "code",
   "execution_count": null,
   "metadata": {},
   "outputs": [],
   "source": []
  }
 ],
 "metadata": {
  "kernelspec": {
   "display_name": "Python 3",
   "language": "python",
   "name": "python3"
  },
  "language_info": {
   "codemirror_mode": {
    "name": "ipython",
    "version": 3
   },
   "file_extension": ".py",
   "mimetype": "text/x-python",
   "name": "python",
   "nbconvert_exporter": "python",
   "pygments_lexer": "ipython3",
   "version": "3.6.10"
  }
 },
 "nbformat": 4,
 "nbformat_minor": 4
}
