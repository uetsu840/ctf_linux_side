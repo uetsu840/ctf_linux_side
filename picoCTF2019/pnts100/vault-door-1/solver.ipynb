{
 "cells": [
  {
   "cell_type": "code",
   "execution_count": 7,
   "metadata": {},
   "outputs": [
    {
     "name": "stdout",
     "output_type": "stream",
     "text": [
      "Defaulting to user installation because normal site-packages is not writeable\n",
      "Requirement already satisfied: parse in /home/kitagawa/.local/lib/python3.5/site-packages (1.15.0)\n"
     ]
    }
   ],
   "source": [
    "!pip install parse\n",
    "\n",
    "\n"
   ]
  },
  {
   "cell_type": "code",
   "execution_count": 6,
   "metadata": {},
   "outputs": [
    {
     "ename": "ModuleNotFoundError",
     "evalue": "No module named 'parse'",
     "output_type": "error",
     "traceback": [
      "\u001b[0;31m---------------------------------------------------------------------------\u001b[0m",
      "\u001b[0;31mModuleNotFoundError\u001b[0m                       Traceback (most recent call last)",
      "\u001b[0;32m<ipython-input-6-dbf8432f2b88>\u001b[0m in \u001b[0;36m<module>\u001b[0;34m\u001b[0m\n\u001b[0;32m----> 1\u001b[0;31m \u001b[0;32mimport\u001b[0m \u001b[0mparse\u001b[0m\u001b[0;34m\u001b[0m\u001b[0;34m\u001b[0m\u001b[0m\n\u001b[0m",
      "\u001b[0;31mModuleNotFoundError\u001b[0m: No module named 'parse'"
     ]
    }
   ],
   "source": []
  },
  {
   "cell_type": "code",
   "execution_count": 19,
   "metadata": {},
   "outputs": [],
   "source": [
    "import re\n",
    "\n",
    "\n",
    "ans = '$$$$$$$$$$$$$$$$$$$$$$$$$$$$$$$$$$$$$$$$$$$$$$$$$$$$$$$$$$$$$$$$$$$$$$$$$$$$$$$$$$$$$$'\n",
    "\n",
    "with open('flagsrc.txt') as f:\n",
    "    src = \"\"\n",
    "    for line in f:\n",
    "        if ('password.charAt(' in line):\n",
    "            \n",
    "            # .+: longest match\n",
    "            # .+? :shortest match\n",
    "            text = re.sub('^.+\\(', \"\", line)\n",
    "            text = re.sub('\\).+?\\'', \",\\\"\", text)\n",
    "            text = re.sub('\\'.+\\n', \"\\\"\", text)\n",
    "            src = src + \"[\" + text + \"],\" \n",
    "    src = \"[\" + src + \"]\"\n",
    "flag_seed = eval(src)"
   ]
  },
  {
   "cell_type": "code",
   "execution_count": 32,
   "metadata": {},
   "outputs": [
    {
     "name": "stdout",
     "output_type": "stream",
     "text": [
      "flag is  d35cr4mbl3_tH3_cH4r4cT3r5_03b7a0\n"
     ]
    }
   ],
   "source": [
    "\n",
    "# n char of string cannot be changed (string is immutable)\n",
    "# convert string to list and modify list\n",
    "\n",
    "list_str = list(ans)\n",
    "\n",
    "for s in flag_seed:\n",
    "    list_str[s[0]] = s[1]\n",
    "    \n",
    "str_changed = \"\".join(list_str)\n",
    "ans = re.sub('\\$+', \"\", str_changed)\n",
    "print(\"flag is \" , ans)"
   ]
  },
  {
   "cell_type": "code",
   "execution_count": 26,
   "metadata": {},
   "outputs": [],
   "source": [
    "ary = [1, 2, 3]"
   ]
  },
  {
   "cell_type": "code",
   "execution_count": null,
   "metadata": {},
   "outputs": [],
   "source": []
  }
 ],
 "metadata": {
  "kernelspec": {
   "display_name": "Python 3",
   "language": "python",
   "name": "python3"
  },
  "language_info": {
   "codemirror_mode": {
    "name": "ipython",
    "version": 3
   },
   "file_extension": ".py",
   "mimetype": "text/x-python",
   "name": "python",
   "nbconvert_exporter": "python",
   "pygments_lexer": "ipython3",
   "version": "3.6.10"
  }
 },
 "nbformat": 4,
 "nbformat_minor": 4
}
