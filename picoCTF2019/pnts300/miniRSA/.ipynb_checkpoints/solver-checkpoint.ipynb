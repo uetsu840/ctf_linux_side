{
 "cells": [
  {
   "cell_type": "code",
   "execution_count": 1,
   "metadata": {},
   "outputs": [],
   "source": [
    "n = 29331922499794985782735976045591164936683059380558950386560160105740343201513369939006307531165922708949619162698623675349030430859547825708994708321803705309459438099340427770580064400911431856656901982789948285309956111848686906152664473350940486507451771223435835260168971210087470894448460745593956840586530527915802541450092946574694809584880896601317519794442862977471129319781313161842056501715040555964011899589002863730868679527184420789010551475067862907739054966183120621407246398518098981106431219207697870293412176440482900183550467375190239898455201170831410460483829448603477361305838743852756938687673\n",
    "e = 3\n",
    "\n",
    "c = 2205316413931134031074603746928247799030155221252519872649602375643231006596573791863783976856797977916843724727388379790172135717557077760267874464115099065405422557746246682213987550407899612567166189989232143975665175662662107329564517"
   ]
  },
  {
   "cell_type": "code",
   "execution_count": 2,
   "metadata": {},
   "outputs": [
    {
     "name": "stdout",
     "output_type": "stream",
     "text": [
      "[+] gmpy2.iroot(c,e) : True\n",
      "[+] m^e(mod n) == c? : True\n",
      "FLAG: 13016382529449106065894479374027604750406953699090365388202782089432170941736573\n"
     ]
    }
   ],
   "source": [
    "\n",
    "#\n",
    "# Low Public-Exponent Attack\n",
    "#\n",
    "\n",
    "import gmpy2\n",
    "\n",
    "m,result = gmpy2.iroot(c,e)\n",
    "print(\"[+] gmpy2.iroot(c,e) : {}\".format(result))\n",
    "print(\"[+] m^e(mod n) == c? : {}\".format(pow(m,e,n) == c))\n",
    "\n",
    "try:\n",
    "    flag = binascii.unhexlify(format(m, 'x')).decode()\n",
    "except Exception as e:\n",
    "    flag = m\n",
    "\n",
    "print(\"FLAG: {}\".format(flag))"
   ]
  },
  {
   "cell_type": "code",
   "execution_count": 6,
   "metadata": {},
   "outputs": [],
   "source": [
    "hex_str = '{:08x}'.format(flag)"
   ]
  },
  {
   "cell_type": "code",
   "execution_count": 14,
   "metadata": {},
   "outputs": [],
   "source": [
    "ans = ''\n",
    "for i in range(len(hex_str) // 2):\n",
    "    ans = ans +(chr(int(hex_str[i*2:i*2+2], 16)))"
   ]
  },
  {
   "cell_type": "code",
   "execution_count": 15,
   "metadata": {},
   "outputs": [
    {
     "data": {
      "text/plain": [
       "'picoCTF{n33d_a_lArg3r_e_11db861f}'"
      ]
     },
     "execution_count": 15,
     "metadata": {},
     "output_type": "execute_result"
    }
   ],
   "source": [
    "ans\n"
   ]
  },
  {
   "cell_type": "code",
   "execution_count": null,
   "metadata": {},
   "outputs": [],
   "source": []
  }
 ],
 "metadata": {
  "kernelspec": {
   "display_name": "Python 3",
   "language": "python",
   "name": "python3"
  },
  "language_info": {
   "codemirror_mode": {
    "name": "ipython",
    "version": 3
   },
   "file_extension": ".py",
   "mimetype": "text/x-python",
   "name": "python",
   "nbconvert_exporter": "python",
   "pygments_lexer": "ipython3",
   "version": "3.6.10"
  }
 },
 "nbformat": 4,
 "nbformat_minor": 4
}
