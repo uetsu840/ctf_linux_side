{
 "cells": [
  {
   "cell_type": "raw",
   "metadata": {},
   "source": [
    "import java.util.*;\n",
    "\n",
    "class VaultDoor3 {\n",
    "    public static void main(String args[]) {\n",
    "        VaultDoor3 vaultDoor = new VaultDoor3();\n",
    "        Scanner scanner = new Scanner(System.in);\n",
    "        System.out.print(\"Enter vault password: \");\n",
    "        String userInput = scanner.next();\n",
    "\tString input = userInput.substring(\"picoCTF{\".length(),userInput.length()-1);\n",
    "\tif (vaultDoor.checkPassword(input)) {\n",
    "\t    System.out.println(\"Access granted.\");\n",
    "\t} else {\n",
    "\t    System.out.println(\"Access denied!\");\n",
    "        }\n",
    "    }\n",
    "\n",
    "    // Our security monitoring team has noticed some intrusions on some of the\n",
    "    // less secure doors. Dr. Evil has asked me specifically to build a stronger\n",
    "    // vault door to protect his Doomsday plans. I just *know* this door will\n",
    "    // keep all of those nosy agents out of our business. Mwa ha!\n",
    "    //\n",
    "    // -Minion #2671\n",
    "    public boolean checkPassword(String password) {\n",
    "        if (password.length() != 32) {\n",
    "            return false;\n",
    "        }\n",
    "        char[] buffer = new char[32];\n",
    "        int i;\n",
    "        for (i=0; i<8; i++) {\n",
    "            buffer[i] = password.charAt(i);\n",
    "        }\n",
    "        for (; i<16; i++) {\n",
    "            buffer[i] = password.charAt(23-i);\n",
    "        }\n",
    "        for (; i<32; i+=2) {\n",
    "            buffer[i] = password.charAt(46-i);\n",
    "        }\n",
    "        for (i=31; i>=17; i-=2) {\n",
    "            buffer[i] = password.charAt(i);\n",
    "        }\n",
    "        String s = new String(buffer);\n",
    "        return s.equals(\"jU5t_a_sna_3lpm12gb44_u_4_m1r240\");\n",
    "    }\n",
    "}"
   ]
  },
  {
   "cell_type": "code",
   "execution_count": 39,
   "metadata": {},
   "outputs": [],
   "source": [
    "reverse_src = \"jU5t_a_sna_3lpm12gb44_u_4_m1r240\""
   ]
  },
  {
   "cell_type": "code",
   "execution_count": 40,
   "metadata": {},
   "outputs": [],
   "source": [
    "password = ' ' * 32\n",
    "\n"
   ]
  },
  {
   "cell_type": "code",
   "execution_count": 48,
   "metadata": {},
   "outputs": [],
   "source": [
    "password_buf = bytearray(password.encode())\n",
    "reverse_src_buf = bytearray(reverse_src.encode())"
   ]
  },
  {
   "cell_type": "code",
   "execution_count": 50,
   "metadata": {},
   "outputs": [],
   "source": [
    "for i in reversed(range(17, 32, 2)):\n",
    "    password_buf[i] = reverse_src[i].encode()[0];"
   ]
  },
  {
   "cell_type": "code",
   "execution_count": 51,
   "metadata": {},
   "outputs": [],
   "source": [
    "for i in reversed(range(16, 32, 2)):\n",
    "    password_buf[46-i] = reverse_src[i].encode()[0]\n"
   ]
  },
  {
   "cell_type": "code",
   "execution_count": 52,
   "metadata": {},
   "outputs": [],
   "source": [
    "for i in reversed(range(8, 16)):\n",
    "    password_buf[23-i] = reverse_src[i].encode()[0]\n"
   ]
  },
  {
   "cell_type": "code",
   "execution_count": 57,
   "metadata": {},
   "outputs": [],
   "source": [
    "for i in reversed(range(0, 8)):\n",
    "    password_buf[i] = reverse_src[i].encode()[0];\n"
   ]
  },
  {
   "cell_type": "code",
   "execution_count": 65,
   "metadata": {},
   "outputs": [
    {
     "name": "stdout",
     "output_type": "stream",
     "text": [
      "picoCTF{jU5t_a_s1mpl3_an4gr4m_4_u_41b220}\n"
     ]
    }
   ],
   "source": [
    "print('picoCTF{' + password_buf.decode() + '}')"
   ]
  },
  {
   "cell_type": "code",
   "execution_count": null,
   "metadata": {},
   "outputs": [],
   "source": []
  }
 ],
 "metadata": {
  "kernelspec": {
   "display_name": "Python 3",
   "language": "python",
   "name": "python3"
  },
  "language_info": {
   "codemirror_mode": {
    "name": "ipython",
    "version": 3
   },
   "file_extension": ".py",
   "mimetype": "text/x-python",
   "name": "python",
   "nbconvert_exporter": "python",
   "pygments_lexer": "ipython3",
   "version": "3.6.10"
  }
 },
 "nbformat": 4,
 "nbformat_minor": 4
}
