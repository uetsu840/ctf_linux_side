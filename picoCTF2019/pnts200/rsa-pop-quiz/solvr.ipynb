{
 "cells": [
  {
   "cell_type": "code",
   "execution_count": 1,
   "metadata": {},
   "outputs": [],
   "source": [
    "# -*- coding : UTF-8 -*-\n",
    "\n",
    "# 0.ライブラリのインポートと変数定義\n",
    "import socket\n",
    "\n",
    "target_ip = \"2019shell1.picoctf.com\"\n",
    "target_port = 41419\n",
    "buffer_size = 4096\n",
    "\n",
    "# 1.ソケットオブジェクトの作成\n",
    "tcp_client = socket.socket(socket.AF_INET, socket.SOCK_STREAM)\n",
    "\n",
    "# 2.サーバに接続\n",
    "tcp_client.connect((target_ip,target_port))\n",
    "\n"
   ]
  },
  {
   "cell_type": "code",
   "execution_count": null,
   "metadata": {},
   "outputs": [],
   "source": []
  },
  {
   "cell_type": "code",
   "execution_count": 2,
   "metadata": {},
   "outputs": [],
   "source": [
    "import time\n",
    "\n",
    "def send_answer(answer):\n",
    "    answer = answer + \"\\n\"\n",
    "    tcp_client.send(answer.encode())\n",
    "    time.sleep(1)\n",
    "    \n",
    "\n",
    "def recv_question():\n",
    "    # 4.サーバからのレスポンスを受信\n",
    "    response = tcp_client.recv(buffer_size).decode()\n",
    "    print(\"[*]Received a response : {}\".format(response))\n",
    "    time.sleep(1)\n",
    "    return response\n",
    "    "
   ]
  },
  {
   "cell_type": "code",
   "execution_count": 3,
   "metadata": {},
   "outputs": [
    {
     "name": "stdout",
     "output_type": "stream",
     "text": [
      "[*]Received a response : Good morning class! It's me Ms. Adleman-Shamir-Rivest\n",
      "[*]Received a response : \n",
      "Today we will be taking a pop quiz, so I hope you studied. Cramming just will not do!\n",
      "You will need to tell me if each example is possible, given your extensive crypto knowledge.\n",
      "Inputs and outputs are in decimal. No hex here!\n",
      "#### NEW PROBLEM ####\n",
      "q : 60413\n",
      "p : 76753\n",
      "##### PRODUCE THE FOLLOWING ####\n",
      "n\n",
      "IS THIS POSSIBLE and FEASIBLE? (Y/N):#### TIME TO SHOW ME WHAT YOU GOT! ###\n",
      "n: \n",
      "------------------------1\n",
      "[*]Received a response : Outstanding move!!!\n",
      "\n",
      "\n",
      "#### NEW PROBLEM ####\n",
      "p : 54269\n",
      "n : 5051846941\n",
      "##### PRODUCE THE FOLLOWING ####\n",
      "q\n",
      "IS THIS POSSIBLE and FEASIBLE? (Y/N):\n",
      "[*]Received a response : #### TIME TO SHOW ME WHAT YOU GOT! ###\n",
      "q: \n",
      "------------------------2\n",
      "[*]Received a response : Outstanding move!!!\n",
      "\n",
      "\n",
      "#### NEW PROBLEM ####\n",
      "e : 3\n",
      "n : 12738162802910546503821920886905393316386362759567480839428456525224226445173031635306683726182522494910808518920409019414034814409330094245825749680913204566832337704700165993198897029795786969124232138869784626202501366135975223827287812326250577148625360887698930625504334325804587329905617936581116392784684334664204309771430814449606147221349888320403451637882447709796221706470239625292297988766493746209684880843111138170600039888112404411310974758532603998608057008811836384597579147244737606088756299939654265086899096359070667266167754944587948695842171915048619846282873769413489072243477764350071787327913\n",
      "##### PRODUCE THE FOLLOWING ####\n",
      "q\n",
      "p\n",
      "IS THIS POSSIBLE and FEASIBLE? (Y/N):\n",
      "------------------------3\n",
      "[*]Received a response : Outstanding move!!!\n",
      "\n",
      "\n",
      "#### NEW PROBLEM ####\n",
      "q : 66347\n",
      "p : 12611\n",
      "##### PRODUCE THE FOLLOWING ####\n",
      "totient(n)\n",
      "IS THIS POSSIBLE and FEASIBLE? (Y/N):\n",
      "[*]Received a response : #### TIME TO SHOW ME WHAT YOU GOT! ###\n",
      "totient(n): \n",
      "------------------------4\n"
     ]
    }
   ],
   "source": [
    "recv_question()\n",
    "send_answer(\"Y\")\n",
    "\n",
    "recv_question()\n",
    "send_answer(\"4636878989\")\n",
    "\n",
    "print(\"------------------------1\")\n",
    "\n",
    "recv_question()\n",
    "send_answer(\"Y\")\n",
    "\n",
    "recv_question()\n",
    "send_answer(\"93089\")\n",
    "\n",
    "print(\"------------------------2\")\n",
    "\n",
    "recv_question()\n",
    "send_answer(\"N\")\n",
    "\n",
    "print(\"------------------------3\")\n",
    "\n",
    "\n",
    "recv_question()\n",
    "send_answer(\"Y\")\n",
    "\n",
    "recv_question()\n",
    "send_answer(\"836623060\")\n",
    "\n",
    "print(\"------------------------4\")\n"
   ]
  },
  {
   "cell_type": "code",
   "execution_count": 4,
   "metadata": {},
   "outputs": [
    {
     "name": "stdout",
     "output_type": "stream",
     "text": [
      "[*]Received a response : Outstanding move!!!\n",
      "\n",
      "\n",
      "#### NEW PROBLEM ####\n",
      "plaintext : 6357294171489311547190987615544575133581967886499484091352661406414044440475205342882841236357665973431462491355089413710392273380203038793241564304774271529108729717\n",
      "e : 3\n",
      "n : 29129463609326322559521123136222078780585451208149138547799121083622333250646678767769126248182207478527881025116332742616201890576280859777513414460842754045651093593251726785499360828237897586278068419875517543013545369871704159718105354690802726645710699029936754265654381929650494383622583174075805797766685192325859982797796060391271817578087472948205626257717479858369754502615173773514087437504532994142632207906501079835037052797306690891600559321673928943158514646572885986881016569647357891598545880304236145548059520898133142087545369179876065657214225826997676844000054327141666320553082128424707948750331\n",
      "##### PRODUCE THE FOLLOWING ####\n",
      "ciphertext\n",
      "IS THIS POSSIBLE and FEASIBLE? (Y/N):\n"
     ]
    }
   ],
   "source": [
    "# final problem\n",
    "final_quiz1 = recv_question()\n",
    "\n"
   ]
  },
  {
   "cell_type": "code",
   "execution_count": 5,
   "metadata": {},
   "outputs": [],
   "source": [
    "import re\n",
    "plaintext = int(re.findall('plaintext : (\\d+)\\n', final_quiz1)[0])\n",
    "e = int(re.findall('e : (\\d+)\\n', final_quiz1)[0])\n",
    "n = int(re.findall('n : (\\d+)\\n', final_quiz1)[0])"
   ]
  },
  {
   "cell_type": "code",
   "execution_count": 6,
   "metadata": {},
   "outputs": [],
   "source": [
    "cipher = (pow(plaintext, e)) % n\n",
    "\n"
   ]
  },
  {
   "cell_type": "code",
   "execution_count": 7,
   "metadata": {},
   "outputs": [
    {
     "name": "stdout",
     "output_type": "stream",
     "text": [
      "[*]Received a response : #### TIME TO SHOW ME WHAT YOU GOT! ###\n",
      "ciphertext: \n"
     ]
    }
   ],
   "source": [
    "send_answer(\"Y\")\n",
    "\n",
    "recv_question()\n",
    "send_answer(str(cipher))"
   ]
  },
  {
   "cell_type": "code",
   "execution_count": 8,
   "metadata": {
    "scrolled": true
   },
   "outputs": [
    {
     "name": "stdout",
     "output_type": "stream",
     "text": [
      "[*]Received a response : Outstanding move!!!\n",
      "\n",
      "\n",
      "#### NEW PROBLEM ####\n",
      "ciphertext : 107524013451079348539944510756143604203925717262185033799328445011792760545528944993719783392542163428637172323512252624567111110666168664743115203791510985709942366609626436995887781674651272233566303814979677507101168587739375699009734588985482369702634499544891509228440194615376339573685285125730286623323\n",
      "e : 3\n",
      "n : 27566996291508213932419371385141522859343226560050921196294761870500846140132385080994630946107675330189606021165260590147068785820203600882092467797813519434652632126061353583124063944373336654246386074125394368479677295167494332556053947231141336142392086767742035970752738056297057898704112912616565299451359791548536846025854378347423520104947907334451056339439706623069503088916316369813499705073573777577169392401411708920615574908593784282546154486446779246790294398198854547069593987224578333683144886242572837465834139561122101527973799583927411936200068176539747586449939559180772690007261562703222558103359\n",
      "##### PRODUCE THE FOLLOWING ####\n",
      "plaintext\n",
      "IS THIS POSSIBLE and FEASIBLE? (Y/N):\n"
     ]
    }
   ],
   "source": [
    "recv_question()\n",
    "send_answer(\"N\")\n"
   ]
  },
  {
   "cell_type": "code",
   "execution_count": 9,
   "metadata": {},
   "outputs": [
    {
     "name": "stdout",
     "output_type": "stream",
     "text": [
      "[*]Received a response : Outstanding move!!!\n",
      "\n",
      "\n",
      "#### NEW PROBLEM ####\n",
      "q : 92092076805892533739724722602668675840671093008520241548191914215399824020372076186460768206814914423802230398410980218741906960527104568970225804374404612617736579286959865287226538692911376507934256844456333236362669879347073756238894784951597211105734179388300051579994253565459304743059533646753003894559\n",
      "p : 97846775312392801037224396977012615848433199640105786119757047098757998273009741128821931277074555731813289423891389911801250326299324018557072727051765547115514791337578758859803890173153277252326496062476389498019821358465433398338364421624871010292162533041884897182597065662521825095949253625730631876637\n",
      "e : 65537\n",
      "##### PRODUCE THE FOLLOWING ####\n",
      "d\n",
      "IS THIS POSSIBLE and FEASIBLE? (Y/N):\n"
     ]
    }
   ],
   "source": [
    "final_quiz2 = recv_question()\n",
    "\n"
   ]
  },
  {
   "cell_type": "code",
   "execution_count": 10,
   "metadata": {},
   "outputs": [],
   "source": [
    "q = int(re.findall('q : (\\d+)\\n', final_quiz2)[0])\n",
    "p = int(re.findall('p : (\\d+)\\n', final_quiz2)[0])\n",
    "e = int(re.findall('e : (\\d+)\\n', final_quiz2)[0])"
   ]
  },
  {
   "cell_type": "code",
   "execution_count": 11,
   "metadata": {},
   "outputs": [
    {
     "name": "stdout",
     "output_type": "stream",
     "text": [
      "[*]Received a response : #### TIME TO SHOW ME WHAT YOU GOT! ###\n",
      "d: \n"
     ]
    }
   ],
   "source": [
    "def ex_euclid(x, y):\n",
    "    c0, c1 = x, y\n",
    "    a0, a1 = 1, 0\n",
    "    b0, b1 = 0, 1\n",
    "\n",
    "    while c1 != 0:\n",
    "        m = c0 % c1\n",
    "        q = c0 // c1\n",
    "\n",
    "        c0, c1 = c1, m\n",
    "        a0, a1 = a1, (a0 - q * a1)\n",
    "        b0, b1 = b1, (b0 - q * b1)\n",
    "\n",
    "    return c0, a0, b0\n",
    "\n",
    "lamb = (q-1) * (p-1)\n",
    "\n",
    "c, a, b = ex_euclid(e, lamb)\n",
    "d = a % lamb\n",
    "\n",
    "send_answer(\"Y\")\n",
    "recv_question()\n",
    "send_answer(str(d))"
   ]
  },
  {
   "cell_type": "code",
   "execution_count": 12,
   "metadata": {},
   "outputs": [
    {
     "name": "stdout",
     "output_type": "stream",
     "text": [
      "[*]Received a response : Outstanding move!!!\n",
      "\n",
      "\n",
      "#### NEW PROBLEM ####\n",
      "p : 153143042272527868798412612417204434156935146874282990942386694020462861918068684561281763577034706600608387699148071015194725533394126069826857182428660427818277378724977554365910231524827258160904493774748749088477328204812171935987088715261127321911849092207070653272176072509933245978935455542420691737433\n",
      "ciphertext : 14177987223508642131782797570705581865562801943020304324633179842233648468773284681099013143283137490421880620316003804700542539367277056119924780390073376368416200076614798528210303393148038397972770835314176889384910743248227379602503304665968858682295687434435804347875820140516870497567301408412715581672979699897049453701769585723745678466885154478156861404094657217832388752774912467316297776811251467400544288767645372505477570969704731692064200678746651536132006463037418757874224499384628808197361618023507921293784071910631939869468132820891513863046467487362047958571217107053268878096051632274561080703969\n",
      "e : 65537\n",
      "n : 23952937352643527451379227516428377705004894508566304313177880191662177061878993798938496818120987817049538365206671401938265663712351239785237507341311858383628932183083145614696585411921662992078376103990806989257289472590902167457302888198293135333083734504191910953238278860923153746261500759411620299864395158783509535039259714359526738924736952759753503357614939203434092075676169179112452620687731670534906069845965633455748606649062394293289967059348143206600765820021392608270528856238306849191113241355842396325210132358046616312901337987464473799040762271876389031455051640937681745409057246190498795697239\n",
      "##### PRODUCE THE FOLLOWING ####\n",
      "plaintext\n",
      "IS THIS POSSIBLE and FEASIBLE? (Y/N):\n"
     ]
    }
   ],
   "source": [
    "\n",
    "final_quiz2 = recv_question()"
   ]
  },
  {
   "cell_type": "code",
   "execution_count": 13,
   "metadata": {},
   "outputs": [],
   "source": [
    "p = int(re.findall('p : (\\d+)\\n', final_quiz2)[0])\n",
    "ciphertext = int(re.findall('ciphertext : (\\d+)\\n', final_quiz2)[0])\n",
    "e = int(re.findall('e : (\\d+)\\n', final_quiz2)[0])\n",
    "n = int(re.findall('n : (\\d+)\\n', final_quiz2)[0])"
   ]
  },
  {
   "cell_type": "code",
   "execution_count": 14,
   "metadata": {},
   "outputs": [],
   "source": [
    "q = n // p\n",
    "\n",
    "lamb = (q-1) * (p-1)\n",
    "\n",
    "c, a, b = ex_euclid(e, lamb)\n",
    "d = a % lamb\n",
    "\n",
    "n = p * q\n",
    "plaintext = pow(ciphertext, d, n)"
   ]
  },
  {
   "cell_type": "code",
   "execution_count": 15,
   "metadata": {},
   "outputs": [
    {
     "name": "stdout",
     "output_type": "stream",
     "text": [
      "[*]Received a response : #### TIME TO SHOW ME WHAT YOU GOT! ###\n",
      "plaintext: \n",
      "[*]Received a response : Outstanding move!!!\n",
      "\n",
      "\n",
      "If you convert the last plaintext to a hex number, then ascii, you'll find what you need! ;)\n",
      "\n"
     ]
    },
    {
     "data": {
      "text/plain": [
       "\"Outstanding move!!!\\n\\n\\nIf you convert the last plaintext to a hex number, then ascii, you'll find what you need! ;)\\n\""
      ]
     },
     "execution_count": 15,
     "metadata": {},
     "output_type": "execute_result"
    }
   ],
   "source": [
    "\n",
    "\n",
    "send_answer(\"Y\")\n",
    "recv_question()\n",
    "send_answer(str(plaintext))\n",
    "recv_question()\n"
   ]
  },
  {
   "cell_type": "code",
   "execution_count": 16,
   "metadata": {},
   "outputs": [
    {
     "data": {
      "text/plain": [
       "b'picoCTF{wA8_th4t$_ill3aGal..o9baccc4b}'"
      ]
     },
     "execution_count": 16,
     "metadata": {},
     "output_type": "execute_result"
    }
   ],
   "source": [
    "import binascii\n",
    "binascii.unhexlify(format(plaintext, 'x'))\n"
   ]
  }
 ],
 "metadata": {
  "kernelspec": {
   "display_name": "Python 3",
   "language": "python",
   "name": "python3"
  },
  "language_info": {
   "codemirror_mode": {
    "name": "ipython",
    "version": 3
   },
   "file_extension": ".py",
   "mimetype": "text/x-python",
   "name": "python",
   "nbconvert_exporter": "python",
   "pygments_lexer": "ipython3",
   "version": "3.6.10"
  }
 },
 "nbformat": 4,
 "nbformat_minor": 4
}
