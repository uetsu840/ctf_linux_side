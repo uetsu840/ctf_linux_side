{
 "cells": [
  {
   "cell_type": "code",
   "execution_count": 1,
   "metadata": {},
   "outputs": [],
   "source": [
    "# -*- coding : UTF-8 -*-\n",
    "\n",
    "# 0.ライブラリのインポートと変数定義\n",
    "import socket\n",
    "\n",
    "target_ip = \"2019shell1.picoctf.com\"\n",
    "target_port = 20836\n",
    "buffer_size = 4096\n",
    "\n",
    "# 1.ソケットオブジェクトの作成\n",
    "tcp_client = socket.socket(socket.AF_INET, socket.SOCK_STREAM)\n",
    "\n",
    "# 2.サーバに接続\n",
    "tcp_client.connect((target_ip,target_port))\n",
    "\n"
   ]
  },
  {
   "cell_type": "code",
   "execution_count": 2,
   "metadata": {},
   "outputs": [
    {
     "name": "stdout",
     "output_type": "stream",
     "text": [
      "[*]Received a response : Let us see how data is stored\n",
      "lime\n",
      "Please give the 01101100 01101001 01101101 01100101 as a word.\n",
      "...\n",
      "you have 45 seconds.....\n",
      "\n",
      "Input:\n",
      "\n"
     ]
    }
   ],
   "source": [
    "# 4.サーバからのレスポンスを受信\n",
    "response = tcp_client.recv(buffer_size).decode()\n",
    "print(\"[*]Received a response : {}\".format(response))"
   ]
  },
  {
   "cell_type": "code",
   "execution_count": 3,
   "metadata": {},
   "outputs": [],
   "source": [
    "import re\n",
    "\n",
    "target_str = re.findall('Please give the (.*) as a word', response)"
   ]
  },
  {
   "cell_type": "code",
   "execution_count": 4,
   "metadata": {},
   "outputs": [
    {
     "name": "stdout",
     "output_type": "stream",
     "text": [
      "lime\n",
      "\n"
     ]
    }
   ],
   "source": [
    "numbers = re.findall(r'\\d+', target_str[0])\n",
    "\n",
    "answer = \"\"\n",
    "for char_bin in numbers:\n",
    "    char = chr(int(char_bin, 2))\n",
    "    answer = answer + char\n",
    "\n",
    "answer = answer + '\\n'\n",
    "print(answer)\n"
   ]
  },
  {
   "cell_type": "code",
   "execution_count": 5,
   "metadata": {},
   "outputs": [
    {
     "data": {
      "text/plain": [
       "5"
      ]
     },
     "execution_count": 5,
     "metadata": {},
     "output_type": "execute_result"
    }
   ],
   "source": [
    "tcp_client.send(answer.encode())\n"
   ]
  },
  {
   "cell_type": "code",
   "execution_count": 6,
   "metadata": {},
   "outputs": [
    {
     "name": "stdout",
     "output_type": "stream",
     "text": [
      "[*]Received a response : Please give me the  154 151 172 141 162 144 as a word.\n",
      "Input:\n",
      "\n"
     ]
    }
   ],
   "source": [
    "# 4.サーバからのレスポンスを受信\n",
    "response = tcp_client.recv(buffer_size).decode()\n",
    "print(\"[*]Received a response : {}\".format(response))\n",
    "\n"
   ]
  },
  {
   "cell_type": "code",
   "execution_count": 7,
   "metadata": {},
   "outputs": [],
   "source": [
    "target_str = re.findall('Please give me the (.*) as a word', response)\n",
    "\n",
    "numbers = re.findall(r'\\d+', target_str[0])"
   ]
  },
  {
   "cell_type": "code",
   "execution_count": 8,
   "metadata": {},
   "outputs": [
    {
     "name": "stdout",
     "output_type": "stream",
     "text": [
      "lizard\n",
      "\n"
     ]
    }
   ],
   "source": [
    "answer = \"\"\n",
    "for char_bin in numbers:\n",
    "    char = chr(int(char_bin, 8))\n",
    "    answer = answer + char\n",
    "\n",
    "answer = answer + '\\n'\n",
    "print(answer)\n"
   ]
  },
  {
   "cell_type": "code",
   "execution_count": 9,
   "metadata": {},
   "outputs": [
    {
     "data": {
      "text/plain": [
       "7"
      ]
     },
     "execution_count": 9,
     "metadata": {},
     "output_type": "execute_result"
    }
   ],
   "source": [
    "tcp_client.send(answer.encode())"
   ]
  },
  {
   "cell_type": "code",
   "execution_count": 10,
   "metadata": {},
   "outputs": [
    {
     "name": "stdout",
     "output_type": "stream",
     "text": [
      "[*]Received a response : Please give me the 736f636b6574 as a word.\n",
      "Input:\n",
      "\n"
     ]
    }
   ],
   "source": [
    "# 4.サーバからのレスポンスを受信\n",
    "response = tcp_client.recv(buffer_size).decode()\n",
    "print(\"[*]Received a response : {}\".format(response))"
   ]
  },
  {
   "cell_type": "code",
   "execution_count": 11,
   "metadata": {},
   "outputs": [],
   "source": [
    "\n",
    "import re\n",
    "\n",
    "str = re.findall('Please give me the (.*) as a word', response)"
   ]
  },
  {
   "cell_type": "code",
   "execution_count": 12,
   "metadata": {},
   "outputs": [
    {
     "data": {
      "text/plain": [
       "['736f636b6574']"
      ]
     },
     "execution_count": 12,
     "metadata": {},
     "output_type": "execute_result"
    }
   ],
   "source": [
    "str"
   ]
  },
  {
   "cell_type": "code",
   "execution_count": 13,
   "metadata": {},
   "outputs": [],
   "source": [
    "import binascii\n",
    "answer = binascii.a2b_hex(str[0]).decode('utf-8') + '\\n'"
   ]
  },
  {
   "cell_type": "code",
   "execution_count": 14,
   "metadata": {},
   "outputs": [
    {
     "data": {
      "text/plain": [
       "7"
      ]
     },
     "execution_count": 14,
     "metadata": {},
     "output_type": "execute_result"
    }
   ],
   "source": [
    "tcp_client.send(answer.encode())"
   ]
  },
  {
   "cell_type": "code",
   "execution_count": 15,
   "metadata": {},
   "outputs": [
    {
     "name": "stdout",
     "output_type": "stream",
     "text": [
      "[*]Received a response : You've beaten the challenge\n",
      "Flag: picoCTF{learning_about_converting_values_6cdcad0d}\n",
      "\n"
     ]
    }
   ],
   "source": [
    "# 4.サーバからのレスポンスを受信\n",
    "response = tcp_client.recv(buffer_size).decode()\n",
    "print(\"[*]Received a response : {}\".format(response))"
   ]
  },
  {
   "cell_type": "code",
   "execution_count": null,
   "metadata": {},
   "outputs": [],
   "source": []
  }
 ],
 "metadata": {
  "kernelspec": {
   "display_name": "Python 3",
   "language": "python",
   "name": "python3"
  },
  "language_info": {
   "codemirror_mode": {
    "name": "ipython",
    "version": 3
   },
   "file_extension": ".py",
   "mimetype": "text/x-python",
   "name": "python",
   "nbconvert_exporter": "python",
   "pygments_lexer": "ipython3",
   "version": "3.6.10"
  }
 },
 "nbformat": 4,
 "nbformat_minor": 4
}
